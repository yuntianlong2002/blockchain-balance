{
 "cells": [
  {
   "cell_type": "code",
   "execution_count": 1,
   "id": "8144dc72-fe12-4075-abc7-60897432443b",
   "metadata": {},
   "outputs": [
    {
     "name": "stdout",
     "output_type": "stream",
     "text": [
      "<generator object AnkrTokenAPI.get_account_balance at 0x113a4e0e0>\n"
     ]
    }
   ],
   "source": [
    "from ankr import AnkrWeb3\n",
    " \n",
    "ankr_w3 = AnkrWeb3(\"https://rpc.ankr.com/eth/fc90e2d650d1b105e5de434b6c0bb7cf180f138a0a6df3dc1c46feb92c8494a4\")\n",
    "\n",
    "assets = ankr_w3.token.get_account_balance(\n",
    "    wallet_address=\"0x77A859A53D4de24bBC0CC80dD93Fbe391Df45527\",\n",
    "    blockchain=[\"eth\", \"bsc\"],\n",
    ")\n",
    "\n",
    "print(assets)\n"
   ]
  },
  {
   "cell_type": "code",
   "execution_count": 5,
   "id": "e277d27d-d526-4bbb-bd21-d1144acb3c43",
   "metadata": {},
   "outputs": [
    {
     "name": "stdout",
     "output_type": "stream",
     "text": [
      "['__class__', '__del__', '__delattr__', '__dir__', '__doc__', '__eq__', '__format__', '__ge__', '__getattribute__', '__getstate__', '__gt__', '__hash__', '__init__', '__init_subclass__', '__iter__', '__le__', '__lt__', '__name__', '__ne__', '__new__', '__next__', '__qualname__', '__reduce__', '__reduce_ex__', '__repr__', '__setattr__', '__sizeof__', '__str__', '__subclasshook__', 'close', 'gi_code', 'gi_frame', 'gi_running', 'gi_suspended', 'gi_yieldfrom', 'send', 'throw']\n"
     ]
    }
   ],
   "source": [
    "print(dir(assets))"
   ]
  },
  {
   "cell_type": "code",
   "execution_count": null,
   "id": "cd7ecb81-f4b7-4b64-9176-74044eb7270a",
   "metadata": {},
   "outputs": [],
   "source": []
  }
 ],
 "metadata": {
  "kernelspec": {
   "display_name": "Python 3 (ipykernel)",
   "language": "python",
   "name": "python3"
  },
  "language_info": {
   "codemirror_mode": {
    "name": "ipython",
    "version": 3
   },
   "file_extension": ".py",
   "mimetype": "text/x-python",
   "name": "python",
   "nbconvert_exporter": "python",
   "pygments_lexer": "ipython3",
   "version": "3.11.4"
  }
 },
 "nbformat": 4,
 "nbformat_minor": 5
}
